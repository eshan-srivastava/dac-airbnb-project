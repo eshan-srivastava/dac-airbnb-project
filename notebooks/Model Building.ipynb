{
 "cells": [
  {
   "cell_type": "code",
   "execution_count": 200,
   "metadata": {},
   "outputs": [],
   "source": [
    "import numpy as np\n",
    "import pandas as pd\n",
    "from sklearn.linear_model import LinearRegression, Lasso, Ridge\n",
    "from sklearn.ensemble import RandomForestRegressor\n",
    "from sklearn.tree import DecisionTreeRegressor\n",
    "from sklearn.metrics import mean_squared_error, r2_score\n",
    "from sklearn.preprocessing import MinMaxScaler\n",
    "import math\n",
    "import pickle"
   ]
  },
  {
   "cell_type": "code",
   "execution_count": 201,
   "metadata": {},
   "outputs": [],
   "source": [
    "#reading data\n",
    "#dtrain = pd.read_csv(\"..\\input\\\\abnyc_train.csv\")\n",
    "#dtest = pd.read_csv(\"..\\input\\\\abnyc_test.csv\")\n",
    "#dval = pd.read_csv(\"..\\input\\\\abnyc_validation.csv\")"
   ]
  },
  {
   "cell_type": "code",
   "execution_count": 202,
   "metadata": {},
   "outputs": [],
   "source": [
    "y_train = pd.read_csv(\"..\\input\\\\y_train.csv\")\n",
    "x_train = pd.read_csv(\"..\\input\\\\x_train.csv\")\n",
    "y_test = pd.read_csv(\"..\\input\\\\y_test.csv\")\n",
    "x_test = pd.read_csv(\"..\\input\\\\x_test.csv\")\n",
    "y_val = pd.read_csv(\"..\\input\\\\y_val.csv\")\n",
    "x_val = pd.read_csv(\"..\\input\\\\x_val.csv\")"
   ]
  },
  {
   "cell_type": "code",
   "execution_count": 203,
   "metadata": {},
   "outputs": [
    {
     "data": {
      "text/html": [
       "<div>\n",
       "<style scoped>\n",
       "    .dataframe tbody tr th:only-of-type {\n",
       "        vertical-align: middle;\n",
       "    }\n",
       "\n",
       "    .dataframe tbody tr th {\n",
       "        vertical-align: top;\n",
       "    }\n",
       "\n",
       "    .dataframe thead th {\n",
       "        text-align: right;\n",
       "    }\n",
       "</style>\n",
       "<table border=\"1\" class=\"dataframe\">\n",
       "  <thead>\n",
       "    <tr style=\"text-align: right;\">\n",
       "      <th></th>\n",
       "      <th>minimum_nights</th>\n",
       "      <th>number_of_reviews</th>\n",
       "      <th>reviews_per_month</th>\n",
       "      <th>calculated_host_listings_count</th>\n",
       "      <th>availability_365</th>\n",
       "      <th>ng_Bronx</th>\n",
       "      <th>ng_Brooklyn</th>\n",
       "      <th>ng_Manhattan</th>\n",
       "      <th>ng_Queens</th>\n",
       "      <th>ng_Staten Island</th>\n",
       "      <th>rt_Entire home/apt</th>\n",
       "      <th>rt_Private room</th>\n",
       "      <th>rt_Shared room</th>\n",
       "    </tr>\n",
       "  </thead>\n",
       "  <tbody>\n",
       "    <tr>\n",
       "      <th>0</th>\n",
       "      <td>0.144115</td>\n",
       "      <td>0.130366</td>\n",
       "      <td>0.053698</td>\n",
       "      <td>0.0</td>\n",
       "      <td>1.0</td>\n",
       "      <td>0.0</td>\n",
       "      <td>0.0</td>\n",
       "      <td>1.0</td>\n",
       "      <td>0.0</td>\n",
       "      <td>0.0</td>\n",
       "      <td>1.0</td>\n",
       "      <td>0.0</td>\n",
       "      <td>0.0</td>\n",
       "    </tr>\n",
       "    <tr>\n",
       "      <th>1</th>\n",
       "      <td>0.000801</td>\n",
       "      <td>0.019078</td>\n",
       "      <td>0.012665</td>\n",
       "      <td>0.0</td>\n",
       "      <td>0.6</td>\n",
       "      <td>0.0</td>\n",
       "      <td>1.0</td>\n",
       "      <td>0.0</td>\n",
       "      <td>0.0</td>\n",
       "      <td>0.0</td>\n",
       "      <td>0.0</td>\n",
       "      <td>1.0</td>\n",
       "      <td>0.0</td>\n",
       "    </tr>\n",
       "    <tr>\n",
       "      <th>2</th>\n",
       "      <td>0.000801</td>\n",
       "      <td>0.151033</td>\n",
       "      <td>0.266464</td>\n",
       "      <td>0.0</td>\n",
       "      <td>1.0</td>\n",
       "      <td>0.0</td>\n",
       "      <td>1.0</td>\n",
       "      <td>0.0</td>\n",
       "      <td>0.0</td>\n",
       "      <td>0.0</td>\n",
       "      <td>1.0</td>\n",
       "      <td>0.0</td>\n",
       "      <td>0.0</td>\n",
       "    </tr>\n",
       "    <tr>\n",
       "      <th>3</th>\n",
       "      <td>0.001601</td>\n",
       "      <td>0.058824</td>\n",
       "      <td>0.023810</td>\n",
       "      <td>0.0</td>\n",
       "      <td>1.0</td>\n",
       "      <td>0.0</td>\n",
       "      <td>0.0</td>\n",
       "      <td>1.0</td>\n",
       "      <td>0.0</td>\n",
       "      <td>0.0</td>\n",
       "      <td>1.0</td>\n",
       "      <td>0.0</td>\n",
       "      <td>0.0</td>\n",
       "    </tr>\n",
       "    <tr>\n",
       "      <th>4</th>\n",
       "      <td>0.003203</td>\n",
       "      <td>0.025437</td>\n",
       "      <td>0.028875</td>\n",
       "      <td>0.0</td>\n",
       "      <td>0.6</td>\n",
       "      <td>0.0</td>\n",
       "      <td>1.0</td>\n",
       "      <td>0.0</td>\n",
       "      <td>0.0</td>\n",
       "      <td>0.0</td>\n",
       "      <td>1.0</td>\n",
       "      <td>0.0</td>\n",
       "      <td>0.0</td>\n",
       "    </tr>\n",
       "  </tbody>\n",
       "</table>\n",
       "</div>"
      ],
      "text/plain": [
       "   minimum_nights  number_of_reviews  reviews_per_month  \\\n",
       "0        0.144115           0.130366           0.053698   \n",
       "1        0.000801           0.019078           0.012665   \n",
       "2        0.000801           0.151033           0.266464   \n",
       "3        0.001601           0.058824           0.023810   \n",
       "4        0.003203           0.025437           0.028875   \n",
       "\n",
       "   calculated_host_listings_count  availability_365  ng_Bronx  ng_Brooklyn  \\\n",
       "0                             0.0               1.0       0.0          0.0   \n",
       "1                             0.0               0.6       0.0          1.0   \n",
       "2                             0.0               1.0       0.0          1.0   \n",
       "3                             0.0               1.0       0.0          0.0   \n",
       "4                             0.0               0.6       0.0          1.0   \n",
       "\n",
       "   ng_Manhattan  ng_Queens  ng_Staten Island  rt_Entire home/apt  \\\n",
       "0           1.0        0.0               0.0                 1.0   \n",
       "1           0.0        0.0               0.0                 0.0   \n",
       "2           0.0        0.0               0.0                 1.0   \n",
       "3           1.0        0.0               0.0                 1.0   \n",
       "4           0.0        0.0               0.0                 1.0   \n",
       "\n",
       "   rt_Private room  rt_Shared room  \n",
       "0              0.0             0.0  \n",
       "1              1.0             0.0  \n",
       "2              0.0             0.0  \n",
       "3              0.0             0.0  \n",
       "4              0.0             0.0  "
      ]
     },
     "execution_count": 203,
     "metadata": {},
     "output_type": "execute_result"
    }
   ],
   "source": [
    "x_train.head()"
   ]
  },
  {
   "cell_type": "markdown",
   "metadata": {},
   "source": [
    "**With all Features**"
   ]
  },
  {
   "cell_type": "code",
   "execution_count": 204,
   "metadata": {},
   "outputs": [
    {
     "data": {
      "text/plain": [
       "0.0543015320959217"
      ]
     },
     "execution_count": 204,
     "metadata": {},
     "output_type": "execute_result"
    }
   ],
   "source": [
    "#linear regression\n",
    "reg=LinearRegression()\n",
    "reg.fit(x_train,y_train)\n",
    "y_pred=reg.predict(x_val)\n",
    "from sklearn.metrics import r2_score\n",
    "r2_score(y_val,y_pred)"
   ]
  },
  {
   "cell_type": "code",
   "execution_count": 205,
   "metadata": {},
   "outputs": [],
   "source": [
    "reg1 = LinearRegression().fit(x_train, y_train)"
   ]
  },
  {
   "cell_type": "code",
   "execution_count": 206,
   "metadata": {},
   "outputs": [
    {
     "data": {
      "text/plain": [
       "0.0543015320959217"
      ]
     },
     "execution_count": 206,
     "metadata": {},
     "output_type": "execute_result"
    }
   ],
   "source": [
    "reg1.score(x_val, y_val)"
   ]
  },
  {
   "cell_type": "code",
   "execution_count": 207,
   "metadata": {},
   "outputs": [
    {
     "data": {
      "text/plain": [
       "Lasso(alpha=0.1)"
      ]
     },
     "execution_count": 207,
     "metadata": {},
     "output_type": "execute_result"
    }
   ],
   "source": [
    "#lasso\n",
    "lmodel = Lasso(alpha=0.1)\n",
    "lmodel.fit(x_train, y_train)"
   ]
  },
  {
   "cell_type": "code",
   "execution_count": 208,
   "metadata": {},
   "outputs": [
    {
     "data": {
      "text/plain": [
       "0.05363525443919004"
      ]
     },
     "execution_count": 208,
     "metadata": {},
     "output_type": "execute_result"
    }
   ],
   "source": [
    "lmodel.score(x_val, y_val)"
   ]
  },
  {
   "cell_type": "code",
   "execution_count": 209,
   "metadata": {},
   "outputs": [
    {
     "data": {
      "text/plain": [
       "RandomForestRegressor(n_estimators=200)"
      ]
     },
     "execution_count": 209,
     "metadata": {},
     "output_type": "execute_result"
    }
   ],
   "source": [
    "#random forest\n",
    "regRM = RandomForestRegressor(n_estimators=200)\n",
    "regRM.fit(x_train, y_train.values.ravel())"
   ]
  },
  {
   "cell_type": "code",
   "execution_count": 210,
   "metadata": {},
   "outputs": [
    {
     "name": "stdout",
     "output_type": "stream",
     "text": [
      "0.1953786208399002\n",
      "311.1860133063755\n"
     ]
    }
   ],
   "source": [
    "print(regRM.score(x_val, y_val))\n",
    "y_predL1= regRM.predict(x_val)\n",
    "print(np.sqrt(mean_squared_error(y_val,y_predL1)))"
   ]
  },
  {
   "cell_type": "code",
   "execution_count": 211,
   "metadata": {},
   "outputs": [
    {
     "data": {
      "text/plain": [
       "0.054264849631839196"
      ]
     },
     "execution_count": 211,
     "metadata": {},
     "output_type": "execute_result"
    }
   ],
   "source": [
    "#ridge\n",
    "rdg = Ridge(alpha = 0.5)\n",
    "rdg.fit(x_train, y_train)\n",
    "rdg.score(x_val,y_val)"
   ]
  },
  {
   "cell_type": "code",
   "execution_count": 212,
   "metadata": {},
   "outputs": [
    {
     "data": {
      "text/plain": [
       "0.12724997381043202"
      ]
     },
     "execution_count": 212,
     "metadata": {},
     "output_type": "execute_result"
    }
   ],
   "source": [
    "#decision tree regression\n",
    "dtr = DecisionTreeRegressor(min_samples_leaf=.001)\n",
    "dtr.fit(x_train,y_train)\n",
    "y_predict=dtr.predict(x_val)\n",
    "r2_score(y_val,y_predict)"
   ]
  },
  {
   "cell_type": "code",
   "execution_count": 213,
   "metadata": {},
   "outputs": [
    {
     "name": "stdout",
     "output_type": "stream",
     "text": [
      "<class 'pandas.core.frame.DataFrame'>\n",
      "RangeIndex: 11831 entries, 0 to 11830\n",
      "Data columns (total 13 columns):\n",
      " #   Column                          Non-Null Count  Dtype  \n",
      "---  ------                          --------------  -----  \n",
      " 0   minimum_nights                  11831 non-null  float64\n",
      " 1   number_of_reviews               11831 non-null  float64\n",
      " 2   reviews_per_month               11831 non-null  float64\n",
      " 3   calculated_host_listings_count  11831 non-null  float64\n",
      " 4   availability_365                11831 non-null  float64\n",
      " 5   ng_Bronx                        11831 non-null  float64\n",
      " 6   ng_Brooklyn                     11831 non-null  float64\n",
      " 7   ng_Manhattan                    11831 non-null  float64\n",
      " 8   ng_Queens                       11831 non-null  float64\n",
      " 9   ng_Staten Island                11831 non-null  float64\n",
      " 10  rt_Entire home/apt              11831 non-null  float64\n",
      " 11  rt_Private room                 11831 non-null  float64\n",
      " 12  rt_Shared room                  11831 non-null  float64\n",
      "dtypes: float64(13)\n",
      "memory usage: 1.2 MB\n"
     ]
    }
   ],
   "source": [
    "x_train.info()"
   ]
  },
  {
   "cell_type": "code",
   "execution_count": 214,
   "metadata": {},
   "outputs": [],
   "source": [
    "#K cross validation\n"
   ]
  },
  {
   "cell_type": "code",
   "execution_count": 215,
   "metadata": {},
   "outputs": [],
   "source": [
    "#exporting random forest regressor\n",
    "#exporting pickle\n",
    "with open('../model/model.pkl', 'wb') as files:\n",
    "    pickle.dump(dtr, files)\n",
    "    #pickled the instance of dtr with 12% accuracy\n",
    "    #as it was the highest we could get on subsequent runs"
   ]
  },
  {
   "cell_type": "code",
   "execution_count": 216,
   "metadata": {},
   "outputs": [],
   "source": [
    "model = pickle.load(open('../model/model.pkl', 'rb'))"
   ]
  },
  {
   "cell_type": "code",
   "execution_count": 217,
   "metadata": {},
   "outputs": [
    {
     "name": "stderr",
     "output_type": "stream",
     "text": [
      "C:\\Users\\Eshan\\AppData\\Local\\Packages\\PythonSoftwareFoundation.Python.3.9_qbz5n2kfra8p0\\LocalCache\\local-packages\\Python39\\site-packages\\sklearn\\base.py:450: UserWarning: X does not have valid feature names, but DecisionTreeRegressor was fitted with feature names\n",
      "  warnings.warn(\n"
     ]
    }
   ],
   "source": [
    "outex = model.predict([[0,0.316,0.256,0.04,0.8,0,1,0,0,0,1,0,0]])"
   ]
  },
  {
   "cell_type": "code",
   "execution_count": 218,
   "metadata": {},
   "outputs": [
    {
     "data": {
      "text/plain": [
       "array([118.88235294])"
      ]
     },
     "execution_count": 218,
     "metadata": {},
     "output_type": "execute_result"
    }
   ],
   "source": [
    "outex"
   ]
  }
 ],
 "metadata": {
  "interpreter": {
   "hash": "d0ae4efbb2ccb2721dd38f7849d89599487e4b34262eb185302eb73572efed35"
  },
  "kernelspec": {
   "display_name": "Python 3.9.9 64-bit (windows store)",
   "language": "python",
   "name": "python3"
  },
  "language_info": {
   "codemirror_mode": {
    "name": "ipython",
    "version": 3
   },
   "file_extension": ".py",
   "mimetype": "text/x-python",
   "name": "python",
   "nbconvert_exporter": "python",
   "pygments_lexer": "ipython3",
   "version": "3.9.9"
  },
  "orig_nbformat": 4
 },
 "nbformat": 4,
 "nbformat_minor": 2
}
